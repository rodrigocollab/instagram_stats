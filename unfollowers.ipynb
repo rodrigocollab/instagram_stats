{
 "cells": [
  {
   "cell_type": "code",
   "execution_count": 1,
   "id": "f082136b-c4b5-4519-a760-66ce336d09a8",
   "metadata": {},
   "outputs": [],
   "source": [
    "import pandas as pd"
   ]
  },
  {
   "cell_type": "code",
   "execution_count": 2,
   "id": "52522b2f-d477-46cd-9782-4f9ebea8ad98",
   "metadata": {},
   "outputs": [],
   "source": [
    "df1 = pd.read_json(\"connections/followers_and_following/following.json\")\n",
    "\n",
    "# Before reading the followers_1.json file It's necessary to add a {\"relationships_followers\": at the very beginning\n",
    "# and a } at the end of the file\n",
    "\n",
    "df2 = pd.read_json(\"connections/followers_and_following/followers_1.json\")"
   ]
  },
  {
   "cell_type": "code",
   "execution_count": 3,
   "id": "885a9622-980d-41e0-acfe-c9f9f0833763",
   "metadata": {
    "scrolled": true
   },
   "outputs": [],
   "source": [
    "following = pd.json_normalize(df1['relationships_following'], record_path='string_list_data')"
   ]
  },
  {
   "cell_type": "code",
   "execution_count": 4,
   "id": "fddcde86-a77a-4e22-8244-9e92149dd5bb",
   "metadata": {},
   "outputs": [],
   "source": [
    "# Before reading the followers_1.json file It's necessary to add a {\"relationships_followers\": at the very beginning\n",
    "# and a } at the end of the file\n",
    "\n",
    "followers = pd.json_normalize(df2['relationships_followers'], record_path='string_list_data')"
   ]
  },
  {
   "cell_type": "code",
   "execution_count": 5,
   "id": "e132283d-dc59-44a4-b749-2ef284bccdbf",
   "metadata": {},
   "outputs": [
    {
     "name": "stdout",
     "output_type": "stream",
     "text": [
      "<class 'pandas.core.frame.DataFrame'>\n",
      "RangeIndex: 95 entries, 0 to 94\n",
      "Data columns (total 3 columns):\n",
      " #   Column     Non-Null Count  Dtype \n",
      "---  ------     --------------  ----- \n",
      " 0   href       95 non-null     object\n",
      " 1   value      95 non-null     object\n",
      " 2   timestamp  95 non-null     int64 \n",
      "dtypes: int64(1), object(2)\n",
      "memory usage: 2.4+ KB\n"
     ]
    }
   ],
   "source": [
    "following.info()"
   ]
  },
  {
   "cell_type": "code",
   "execution_count": 6,
   "id": "d6f4e607-fb83-46c7-ad83-09d7f7d120bf",
   "metadata": {},
   "outputs": [
    {
     "name": "stdout",
     "output_type": "stream",
     "text": [
      "<class 'pandas.core.frame.DataFrame'>\n",
      "RangeIndex: 90 entries, 0 to 89\n",
      "Data columns (total 3 columns):\n",
      " #   Column     Non-Null Count  Dtype \n",
      "---  ------     --------------  ----- \n",
      " 0   href       90 non-null     object\n",
      " 1   value      90 non-null     object\n",
      " 2   timestamp  90 non-null     int64 \n",
      "dtypes: int64(1), object(2)\n",
      "memory usage: 2.2+ KB\n"
     ]
    }
   ],
   "source": [
    "followers.info()"
   ]
  },
  {
   "cell_type": "markdown",
   "id": "5237f9f5-032a-4f99-9bfc-824fb7460199",
   "metadata": {},
   "source": [
    "# Accounts that do not follow you back (Unfollowers)"
   ]
  },
  {
   "cell_type": "code",
   "execution_count": 7,
   "id": "edc248f6-75bc-4308-a837-2d6082d9f533",
   "metadata": {},
   "outputs": [
    {
     "name": "stdout",
     "output_type": "stream",
     "text": [
      "Accounts that do not follow you back:\n",
      "1) leticiaal80\n",
      "2) murilorep\n",
      "3) vanessaesteticista.m\n",
      "4) jadehomesenses\n",
      "5) viagmodamaior\n",
      "6) _dinekelly\n"
     ]
    }
   ],
   "source": [
    "unfollowers = following[~following[\"value\"].isin(followers[\"value\"])][\"value\"].values\n",
    "\n",
    "print(\"Accounts that do not follow you back:\")\n",
    "for i in range(len(unfollowers)):\n",
    "    print(f\"{i + 1}) {unfollowers[i]}\")\n"
   ]
  },
  {
   "cell_type": "markdown",
   "id": "738fa0ec-42a0-4dd1-a989-717cc2f5da1c",
   "metadata": {},
   "source": [
    "# Accounts that you do not follow back (Unfollowing)"
   ]
  },
  {
   "cell_type": "code",
   "execution_count": 8,
   "id": "2cbf8238-e869-4fc7-805a-e1516f07ac3e",
   "metadata": {},
   "outputs": [
    {
     "name": "stdout",
     "output_type": "stream",
     "text": [
      "Accounts that you do not follow back:\n",
      "1) lindamartavasconcelos\n"
     ]
    }
   ],
   "source": [
    "unfollowing = followers[~followers[\"value\"].isin(following[\"value\"])][\"value\"].values\n",
    "\n",
    "print(\"Accounts that you do not follow back:\")\n",
    "for i in range(len(unfollowing)):\n",
    "    print(f\"{i + 1}) {unfollowing[i]}\")"
   ]
  },
  {
   "cell_type": "code",
   "execution_count": null,
   "id": "bdbaac27-8680-4c30-84e4-5342e4e398b6",
   "metadata": {},
   "outputs": [],
   "source": []
  }
 ],
 "metadata": {
  "kernelspec": {
   "display_name": "Python 3 (ipykernel)",
   "language": "python",
   "name": "python3"
  },
  "language_info": {
   "codemirror_mode": {
    "name": "ipython",
    "version": 3
   },
   "file_extension": ".py",
   "mimetype": "text/x-python",
   "name": "python",
   "nbconvert_exporter": "python",
   "pygments_lexer": "ipython3",
   "version": "3.12.1"
  }
 },
 "nbformat": 4,
 "nbformat_minor": 5
}
