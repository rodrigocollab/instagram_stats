{
 "cells": [
  {
   "cell_type": "code",
   "execution_count": 15,
   "id": "f082136b-c4b5-4519-a760-66ce336d09a8",
   "metadata": {},
   "outputs": [],
   "source": [
    "import pandas as pd"
   ]
  },
  {
   "cell_type": "code",
   "execution_count": 16,
   "id": "52522b2f-d477-46cd-9782-4f9ebea8ad98",
   "metadata": {},
   "outputs": [],
   "source": [
    "df1 = pd.read_json(\"connections/followers_and_following/following.json\")\n",
    "df2 = pd.read_json(\"connections/followers_and_following/followers_1.json\")"
   ]
  },
  {
   "cell_type": "code",
   "execution_count": 18,
   "id": "885a9622-980d-41e0-acfe-c9f9f0833763",
   "metadata": {
    "scrolled": true
   },
   "outputs": [],
   "source": [
    "following = pd.json_normalize(df1['relationships_following'], record_path='string_list_data')"
   ]
  },
  {
   "cell_type": "code",
   "execution_count": 24,
   "id": "fddcde86-a77a-4e22-8244-9e92149dd5bb",
   "metadata": {},
   "outputs": [],
   "source": [
    "# It's necessary to add a \"{\"relationships_followers\":\" at the very beginning and a \"}\" at the end of the \n",
    "# followers_1.json file.\n",
    "\n",
    "followers = pd.json_normalize(df2['relationships_followers'], record_path='string_list_data')"
   ]
  },
  {
   "cell_type": "code",
   "execution_count": 25,
   "id": "e132283d-dc59-44a4-b749-2ef284bccdbf",
   "metadata": {},
   "outputs": [
    {
     "name": "stdout",
     "output_type": "stream",
     "text": [
      "<class 'pandas.core.frame.DataFrame'>\n",
      "RangeIndex: 88 entries, 0 to 87\n",
      "Data columns (total 3 columns):\n",
      " #   Column     Non-Null Count  Dtype \n",
      "---  ------     --------------  ----- \n",
      " 0   href       88 non-null     object\n",
      " 1   value      88 non-null     object\n",
      " 2   timestamp  88 non-null     int64 \n",
      "dtypes: int64(1), object(2)\n",
      "memory usage: 2.2+ KB\n"
     ]
    }
   ],
   "source": [
    "following.info()"
   ]
  },
  {
   "cell_type": "code",
   "execution_count": 26,
   "id": "d6f4e607-fb83-46c7-ad83-09d7f7d120bf",
   "metadata": {},
   "outputs": [
    {
     "name": "stdout",
     "output_type": "stream",
     "text": [
      "<class 'pandas.core.frame.DataFrame'>\n",
      "RangeIndex: 84 entries, 0 to 83\n",
      "Data columns (total 3 columns):\n",
      " #   Column     Non-Null Count  Dtype \n",
      "---  ------     --------------  ----- \n",
      " 0   href       84 non-null     object\n",
      " 1   value      84 non-null     object\n",
      " 2   timestamp  84 non-null     int64 \n",
      "dtypes: int64(1), object(2)\n",
      "memory usage: 2.1+ KB\n"
     ]
    }
   ],
   "source": [
    "followers.info()"
   ]
  },
  {
   "cell_type": "markdown",
   "id": "5237f9f5-032a-4f99-9bfc-824fb7460199",
   "metadata": {},
   "source": [
    "# Accounts that do not follow you back (Unfollowers)"
   ]
  },
  {
   "cell_type": "code",
   "execution_count": 32,
   "id": "edc248f6-75bc-4308-a837-2d6082d9f533",
   "metadata": {},
   "outputs": [
    {
     "data": {
      "text/html": [
       "<div>\n",
       "<style scoped>\n",
       "    .dataframe tbody tr th:only-of-type {\n",
       "        vertical-align: middle;\n",
       "    }\n",
       "\n",
       "    .dataframe tbody tr th {\n",
       "        vertical-align: top;\n",
       "    }\n",
       "\n",
       "    .dataframe thead th {\n",
       "        text-align: right;\n",
       "    }\n",
       "</style>\n",
       "<table border=\"1\" class=\"dataframe\">\n",
       "  <thead>\n",
       "    <tr style=\"text-align: right;\">\n",
       "      <th></th>\n",
       "      <th>href</th>\n",
       "      <th>value</th>\n",
       "      <th>timestamp</th>\n",
       "    </tr>\n",
       "  </thead>\n",
       "  <tbody>\n",
       "    <tr>\n",
       "      <th>1</th>\n",
       "      <td>https://www.instagram.com/murilorep</td>\n",
       "      <td>murilorep</td>\n",
       "      <td>1705166716</td>\n",
       "    </tr>\n",
       "    <tr>\n",
       "      <th>4</th>\n",
       "      <td>https://www.instagram.com/vanessaesteticista.m</td>\n",
       "      <td>vanessaesteticista.m</td>\n",
       "      <td>1704156625</td>\n",
       "    </tr>\n",
       "    <tr>\n",
       "      <th>18</th>\n",
       "      <td>https://www.instagram.com/jadehomesenses</td>\n",
       "      <td>jadehomesenses</td>\n",
       "      <td>1676041712</td>\n",
       "    </tr>\n",
       "    <tr>\n",
       "      <th>44</th>\n",
       "      <td>https://www.instagram.com/viagmodamaior</td>\n",
       "      <td>viagmodamaior</td>\n",
       "      <td>1588189383</td>\n",
       "    </tr>\n",
       "    <tr>\n",
       "      <th>75</th>\n",
       "      <td>https://www.instagram.com/_dinekelly</td>\n",
       "      <td>_dinekelly</td>\n",
       "      <td>1422822284</td>\n",
       "    </tr>\n",
       "  </tbody>\n",
       "</table>\n",
       "</div>"
      ],
      "text/plain": [
       "                                              href                 value  \\\n",
       "1              https://www.instagram.com/murilorep             murilorep   \n",
       "4   https://www.instagram.com/vanessaesteticista.m  vanessaesteticista.m   \n",
       "18        https://www.instagram.com/jadehomesenses        jadehomesenses   \n",
       "44         https://www.instagram.com/viagmodamaior         viagmodamaior   \n",
       "75            https://www.instagram.com/_dinekelly            _dinekelly   \n",
       "\n",
       "     timestamp  \n",
       "1   1705166716  \n",
       "4   1704156625  \n",
       "18  1676041712  \n",
       "44  1588189383  \n",
       "75  1422822284  "
      ]
     },
     "execution_count": 32,
     "metadata": {},
     "output_type": "execute_result"
    }
   ],
   "source": [
    "following[~following[\"value\"].isin(followers[\"value\"])]"
   ]
  },
  {
   "cell_type": "markdown",
   "id": "738fa0ec-42a0-4dd1-a989-717cc2f5da1c",
   "metadata": {},
   "source": [
    "# Accounts that you do not follow back (Unfollowing)"
   ]
  },
  {
   "cell_type": "code",
   "execution_count": 31,
   "id": "2cbf8238-e869-4fc7-805a-e1516f07ac3e",
   "metadata": {},
   "outputs": [
    {
     "data": {
      "text/html": [
       "<div>\n",
       "<style scoped>\n",
       "    .dataframe tbody tr th:only-of-type {\n",
       "        vertical-align: middle;\n",
       "    }\n",
       "\n",
       "    .dataframe tbody tr th {\n",
       "        vertical-align: top;\n",
       "    }\n",
       "\n",
       "    .dataframe thead th {\n",
       "        text-align: right;\n",
       "    }\n",
       "</style>\n",
       "<table border=\"1\" class=\"dataframe\">\n",
       "  <thead>\n",
       "    <tr style=\"text-align: right;\">\n",
       "      <th></th>\n",
       "      <th>href</th>\n",
       "      <th>value</th>\n",
       "      <th>timestamp</th>\n",
       "    </tr>\n",
       "  </thead>\n",
       "  <tbody>\n",
       "    <tr>\n",
       "      <th>7</th>\n",
       "      <td>https://www.instagram.com/lindamartavasconcelos</td>\n",
       "      <td>lindamartavasconcelos</td>\n",
       "      <td>1699745258</td>\n",
       "    </tr>\n",
       "  </tbody>\n",
       "</table>\n",
       "</div>"
      ],
      "text/plain": [
       "                                              href                  value  \\\n",
       "7  https://www.instagram.com/lindamartavasconcelos  lindamartavasconcelos   \n",
       "\n",
       "    timestamp  \n",
       "7  1699745258  "
      ]
     },
     "execution_count": 31,
     "metadata": {},
     "output_type": "execute_result"
    }
   ],
   "source": [
    "followers[~followers[\"value\"].isin(following[\"value\"])]"
   ]
  }
 ],
 "metadata": {
  "kernelspec": {
   "display_name": "Python 3 (ipykernel)",
   "language": "python",
   "name": "python3"
  },
  "language_info": {
   "codemirror_mode": {
    "name": "ipython",
    "version": 3
   },
   "file_extension": ".py",
   "mimetype": "text/x-python",
   "name": "python",
   "nbconvert_exporter": "python",
   "pygments_lexer": "ipython3",
   "version": "3.12.1"
  }
 },
 "nbformat": 4,
 "nbformat_minor": 5
}
