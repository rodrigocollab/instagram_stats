{
 "cells": [
  {
   "cell_type": "code",
   "execution_count": null,
   "id": "f082136b-c4b5-4519-a760-66ce336d09a8",
   "metadata": {},
   "outputs": [],
   "source": [
    "import pandas as pd"
   ]
  },
  {
   "cell_type": "code",
   "execution_count": null,
   "id": "52522b2f-d477-46cd-9782-4f9ebea8ad98",
   "metadata": {},
   "outputs": [],
   "source": [
    "df1 = pd.read_json(\"connections/followers_and_following/following.json\")\n",
    "df2 = pd.read_json(\"connections/followers_and_following/followers_1.json\")"
   ]
  },
  {
   "cell_type": "code",
   "execution_count": null,
   "id": "885a9622-980d-41e0-acfe-c9f9f0833763",
   "metadata": {
    "scrolled": true
   },
   "outputs": [],
   "source": [
    "following = pd.json_normalize(df1['relationships_following'], record_path='string_list_data')"
   ]
  },
  {
   "cell_type": "code",
   "execution_count": null,
   "id": "fddcde86-a77a-4e22-8244-9e92149dd5bb",
   "metadata": {},
   "outputs": [],
   "source": [
    "# It's necessary to add a \"{\"relationships_followers\":\" at the very beginning and a \"}\" at the end of the \n",
    "# followers_1.json file.\n",
    "\n",
    "followers = pd.json_normalize(df2['relationships_followers'], record_path='string_list_data')"
   ]
  },
  {
   "cell_type": "code",
   "execution_count": null,
   "id": "e132283d-dc59-44a4-b749-2ef284bccdbf",
   "metadata": {},
   "outputs": [],
   "source": [
    "following.info()"
   ]
  },
  {
   "cell_type": "code",
   "execution_count": null,
   "id": "d6f4e607-fb83-46c7-ad83-09d7f7d120bf",
   "metadata": {},
   "outputs": [],
   "source": [
    "followers.info()"
   ]
  },
  {
   "cell_type": "markdown",
   "id": "5237f9f5-032a-4f99-9bfc-824fb7460199",
   "metadata": {},
   "source": [
    "# Accounts that do not follow you back (Unfollowers)"
   ]
  },
  {
   "cell_type": "code",
   "execution_count": null,
   "id": "edc248f6-75bc-4308-a837-2d6082d9f533",
   "metadata": {},
   "outputs": [],
   "source": [
    "following[~following[\"value\"].isin(followers[\"value\"])]"
   ]
  },
  {
   "cell_type": "markdown",
   "id": "738fa0ec-42a0-4dd1-a989-717cc2f5da1c",
   "metadata": {},
   "source": [
    "# Accounts that you do not follow back (Unfollowing)"
   ]
  },
  {
   "cell_type": "code",
   "execution_count": null,
   "id": "2cbf8238-e869-4fc7-805a-e1516f07ac3e",
   "metadata": {},
   "outputs": [],
   "source": [
    "followers[~followers[\"value\"].isin(following[\"value\"])]"
   ]
  }
 ],
 "metadata": {
  "kernelspec": {
   "display_name": "Python 3 (ipykernel)",
   "language": "python",
   "name": "python3"
  },
  "language_info": {
   "codemirror_mode": {
    "name": "ipython",
    "version": 3
   },
   "file_extension": ".py",
   "mimetype": "text/x-python",
   "name": "python",
   "nbconvert_exporter": "python",
   "pygments_lexer": "ipython3",
   "version": "3.12.1"
  }
 },
 "nbformat": 4,
 "nbformat_minor": 5
}
